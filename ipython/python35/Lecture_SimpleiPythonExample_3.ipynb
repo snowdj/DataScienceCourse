{
 "cells": [
  {
   "cell_type": "code",
   "execution_count": 1,
   "metadata": {
    "collapsed": false
   },
   "outputs": [],
   "source": [
    "import pandas as pd\n",
    "import matplotlib.pyplot as plt\n",
    "from numpy import math\n",
    "%matplotlib inline\n",
    "\n",
    "\n",
    "loansData = pd.read_csv('https://spark-public.s3.amazonaws.com/dataanalysis/loansData.csv')\n",
    "\n",
    "#Note, a schema can be found here : https://github.com/herrfz/dataanalysis/blob/master/assignment1/Assignment1.pdf"
   ]
  },
  {
   "cell_type": "code",
   "execution_count": 2,
   "metadata": {
    "collapsed": false
   },
   "outputs": [
    {
     "data": {
      "text/plain": [
       "array(['Amount.Requested', 'Amount.Funded.By.Investors', 'Interest.Rate',\n",
       "       'Loan.Length', 'Loan.Purpose', 'Debt.To.Income.Ratio', 'State',\n",
       "       'Home.Ownership', 'Monthly.Income', 'FICO.Range',\n",
       "       'Open.CREDIT.Lines', 'Revolving.CREDIT.Balance',\n",
       "       'Inquiries.in.the.Last.6.Months', 'Employment.Length'],\n",
       "      dtype=object)"
      ]
     },
     "execution_count": 2,
     "metadata": {},
     "output_type": "execute_result"
    }
   ],
   "source": [
    "loansData.columns.values"
   ]
  },
  {
   "cell_type": "code",
   "execution_count": 3,
   "metadata": {
    "collapsed": false
   },
   "outputs": [
    {
     "data": {
      "text/plain": [
       "81174     6541.67\n",
       "99592     4583.33\n",
       "80059    11500.00\n",
       "15825     3833.33\n",
       "33182     3195.00\n",
       "Name: Monthly.Income, dtype: float64"
      ]
     },
     "execution_count": 3,
     "metadata": {},
     "output_type": "execute_result"
    }
   ],
   "source": [
    "loansData['Monthly.Income'][0:5] # first five rows of Interest.Rate"
   ]
  },
  {
   "cell_type": "code",
   "execution_count": 4,
   "metadata": {
    "collapsed": false
   },
   "outputs": [
    {
     "data": {
      "image/png": "[encoded data removed]",
      "text/plain": [
       "<Figure size 600x400 with 1 Axes>"
      ]
     },
     "metadata": {},
     "output_type": "display_data"
    }
   ],
   "source": [
    "plt.figure()\n",
    "inc = loansData['Monthly.Income']\n",
    "h = inc.hist()\n",
    "plt.title('Histogram of Monthly Income')\n",
    "plt.show()"
   ]
  },
  {
   "cell_type": "code",
   "execution_count": 6,
   "metadata": {
    "collapsed": false
   },
   "outputs": [],
   "source": [
    "loansData['Monthly.LogIncome'] = [ math.log(x) for x in inc ]\n"
   ]
  },
  {
   "cell_type": "code",
   "execution_count": 7,
   "metadata": {
    "collapsed": false
   },
   "outputs": [
    {
     "data": {
      "image/png": "[encoded data removed]",
      "text/plain": [
       "<Figure size 600x400 with 1 Axes>"
      ]
     },
     "metadata": {},
     "output_type": "display_data"
    }
   ],
   "source": [
    "plt.figure()\n",
    "h = loansData['Monthly.LogIncome'].hist()\n",
    "plt.title('Histogram of Log(Monthly Income)')\n",
    "plt.show()"
   ]
  },
  {
   "cell_type": "code",
   "execution_count": 8,
   "metadata": {
    "collapsed": false
   },
   "outputs": [
    {
     "data": {
      "text/plain": [
       "count    2499.000000\n",
       "mean        8.501915\n",
       "std         0.523019\n",
       "min         6.377577\n",
       "25%         8.160518\n",
       "50%         8.517193\n",
       "75%         8.824678\n",
       "max        11.540054\n",
       "Name: Monthly.LogIncome, dtype: float64"
      ]
     },
     "execution_count": 8,
     "metadata": {},
     "output_type": "execute_result"
    }
   ],
   "source": [
    "loansData['Monthly.LogIncome'].describe()"
   ]
  }
 ],
 "metadata": {
  "kernelspec": {
   "display_name": "Python 3",
   "language": "python",
   "name": "python3"
  },
  "language_info": {
   "codemirror_mode": {
    "name": "ipython",
    "version": 3
   },
   "file_extension": ".py",
   "mimetype": "text/x-python",
   "name": "python",
   "nbconvert_exporter": "python",
   "pygments_lexer": "ipython3",
   "version": "3.5.2"
  }
 },
 "nbformat": 4,
 "nbformat_minor": 0
}
